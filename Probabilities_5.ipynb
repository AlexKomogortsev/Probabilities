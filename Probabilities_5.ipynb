{
 "cells": [
  {
   "cell_type": "code",
   "execution_count": 28,
   "metadata": {},
   "outputs": [
    {
     "data": {
      "text/plain": [
       "(78.04003601545995, 81.95996398454005)"
      ]
     },
     "execution_count": 28,
     "metadata": {},
     "output_type": "execute_result"
    }
   ],
   "source": [
    "# Task 1\n",
    "\n",
    "import numpy as np\n",
    "from scipy import stats\n",
    "\n",
    "# samples = np.linspace(1, 256, 256).astype(int)\n",
    "n = 256\n",
    "o = 16\n",
    "x = 80\n",
    "alpha = 1 - 0.95\n",
    "\n",
    "t1 = stats.norm.ppf(alpha / 2)\n",
    "t2 = stats.norm.ppf(1 - alpha / 2)\n",
    "\n",
    "m = (x + t1 * 16 / np.sqrt(n), x + t2 * 16 / np.sqrt(n))\n",
    "\n",
    "m"
   ]
  },
  {
   "cell_type": "code",
   "execution_count": 31,
   "metadata": {},
   "outputs": [
    {
     "name": "stdout",
     "output_type": "stream",
     "text": [
      "Продавец прав\n"
     ]
    },
    {
     "data": {
      "text/plain": [
       "0.31456660352472854"
      ]
     },
     "execution_count": 31,
     "metadata": {},
     "output_type": "execute_result"
    }
   ],
   "source": [
    "# Task 2\n",
    "\n",
    "# Гипотеза Н0: X ср = 200. Проверим её\n",
    "\n",
    "mu = 200\n",
    "alpha = 0.01\n",
    "\n",
    "samples = np.array([202, 203, 199, 197, 195, 201, 200, 204, 194, 190])\n",
    "n = samples.shape[0]\n",
    "\n",
    "def statistic(samples):\n",
    "    return (samples.mean() - mu) / (samples.std(ddof=1) / np.sqrt(n))\n",
    "\n",
    "t1 = stats.t.ppf(alpha / 2, df=n - 1)\n",
    "t2 = stats.t.ppf(1 - alpha / 2, df=n - 1)\n",
    "\n",
    "if statistic(samples) > t1 and statistic(samples) < t2:\n",
    "    print('Продавец прав')\n",
    "else:\n",
    "    print('Продавец ошибся')\n",
    "    \n",
    "\n",
    "pl = stats.t.cdf(statistic(samples), df=n - 1)\n",
    "pr = 1 - stats.t.cdf(statistic(samples), df=n - 1)\n",
    "\n",
    "pval = 2 * min(pl, pr)\n",
    "\n",
    "pval"
   ]
  },
  {
   "cell_type": "code",
   "execution_count": 45,
   "metadata": {},
   "outputs": [
    {
     "name": "stdout",
     "output_type": "stream",
     "text": [
      "Гипотеза верна\n"
     ]
    },
    {
     "data": {
      "text/plain": [
       "2.9599639845400545"
      ]
     },
     "execution_count": 45,
     "metadata": {},
     "output_type": "execute_result"
    }
   ],
   "source": [
    "# Task 3\n",
    "\n",
    "mu = 17\n",
    "alpha = 0.025\n",
    "n = 100\n",
    "X = 17.5\n",
    "o = np.sqrt(4)\n",
    "\n",
    "def statistic(X, mu, o, n):\n",
    "    return (X - mu) / o / np.sqrt(n)\n",
    "    \n",
    "t = 1 - stats.norm.ppf(alpha)\n",
    "\n",
    "pvalue = 1 - stats.norm.cdf(statistic(X, mu, o, n))\n",
    "\n",
    "if pvalue > alpha:\n",
    "    print('Гипотеза верна')\n",
    "else:\n",
    "    print('Гипотеза ошибочна')\n",
    "    "
   ]
  },
  {
   "cell_type": "code",
   "execution_count": 66,
   "metadata": {},
   "outputs": [
    {
     "name": "stdout",
     "output_type": "stream",
     "text": [
      "Гипотеза ошибочна. Дисперсия не может быть равна 0.0625\n"
     ]
    }
   ],
   "source": [
    "# Task 4\n",
    "\n",
    "samples = np.array([0.6603, 0.9466, 0.5968, 1.3792, 1.5481, 0.7515, 1.0681, 1.1134,\n",
    "1.2088, 1.701 , 1.0282, 1.3579, 1.0191, 1.1784, 1.1168, 1.1372,\n",
    "0.7273, 1.3958, 0.8665, 1.5112, 1.161 , 1.0232, 1.0865, 1.02])\n",
    "\n",
    "n = samples.shape[0]\n",
    "sample_variance = samples.std(ddof=1)\n",
    "variance = 0.0625\n",
    "alpha = 0.05\n",
    "H = (n - 1) * sample_variance / variance\n",
    "\n",
    "t1 = stats.chi2.ppf(alpha / 2, df=n - 1)\n",
    "t2 = stats.chi2.ppf(1 - alpha / 2, df=n - 1)\n",
    "\n",
    "if H > t1 and H < t2:\n",
    "    print('Гипотеза верна. Дисперсия может быть равна 0.0625')\n",
    "else:\n",
    "    print('Гипотеза ошибочна. Дисперсия не может быть равна 0.0625')"
   ]
  }
 ],
 "metadata": {
  "kernelspec": {
   "display_name": "Python 3",
   "language": "python",
   "name": "python3"
  },
  "language_info": {
   "codemirror_mode": {
    "name": "ipython",
    "version": 3
   },
   "file_extension": ".py",
   "mimetype": "text/x-python",
   "name": "python",
   "nbconvert_exporter": "python",
   "pygments_lexer": "ipython3",
   "version": "3.8.5"
  }
 },
 "nbformat": 4,
 "nbformat_minor": 4
}
