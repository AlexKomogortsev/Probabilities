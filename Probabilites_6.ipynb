{
 "cells": [
  {
   "cell_type": "code",
   "execution_count": 88,
   "metadata": {},
   "outputs": [
    {
     "data": {
      "text/plain": [
       "array([[1.        , 0.88749009],\n",
       "       [0.88749009, 1.        ]])"
      ]
     },
     "execution_count": 88,
     "metadata": {},
     "output_type": "execute_result"
    }
   ],
   "source": [
    "# Task 1\n",
    "\n",
    "import pandas as pd\n",
    "import numpy as np\n",
    "\n",
    "salary = np.asarray([35, 45, 190, 200, 40, 70, 54, 150, 120, 110])\n",
    "scoring = np.asarray([401, 574, 874, 919, 459, 739, 653, 902, 746, 832])\n",
    "\n",
    "MX = salary.mean()\n",
    "MY = scoring.mean()\n",
    "\n",
    "cov = ((salary - MX) * (scoring - MY)).sum() / (salary.shape[0] - 1)\n",
    "\n",
    "cov\n",
    "\n",
    "np.cov(salary, scoring)\n",
    "\n",
    "OX = (((((salary - MX)**2).sum())) / (salary.shape[0] - 1))**(1/2)\n",
    "OY = (((((scoring - MY)**2).sum())) / (salary.shape[0] - 1))**(1/2)\n",
    "\n",
    "\n",
    "r = cov / (OX * OY)\n",
    "\n",
    "np.corrcoef(salary, scoring)\n"
   ]
  },
  {
   "cell_type": "code",
   "execution_count": 119,
   "metadata": {},
   "outputs": [
    {
     "data": {
      "text/plain": [
       "(110.55608365158724, 125.64391634841274)"
      ]
     },
     "execution_count": 119,
     "metadata": {},
     "output_type": "execute_result"
    }
   ],
   "source": [
    "# Task 2\n",
    "\n",
    "from scipy import stats\n",
    "\n",
    "samples = np.array([131, 125, 115, 122, 131, 115, 107, 99, 125, 111])\n",
    "alpha = 1 - 0.95\n",
    "\n",
    "t1 = stats.t.ppf(alpha / 2, df= samples.shape[0] - 1)\n",
    "t2 = stats.t.ppf(1 - alpha / 2, df= samples.shape[0] - 1)\n",
    "\n",
    "m = (samples.mean() + t1 * samples.std(ddof=1) / np.sqrt(samples.shape[0]), samples.mean() + t2 * samples.std(ddof=1) / np.sqrt(samples.shape[0]))\n",
    "\n",
    "m"
   ]
  },
  {
   "cell_type": "code",
   "execution_count": 121,
   "metadata": {},
   "outputs": [
    {
     "data": {
      "text/plain": [
       "(172.3140237765397, 176.08597622346028)"
      ]
     },
     "execution_count": 121,
     "metadata": {},
     "output_type": "execute_result"
    }
   ],
   "source": [
    "# Task 3\n",
    "\n",
    "o = np.sqrt(25)\n",
    "n = 27\n",
    "X = 174.2\n",
    "alpha = 1 - 0.95\n",
    "\n",
    "t1 = stats.norm.ppf(alpha / 2)\n",
    "t2 = stats.norm.ppf(1 - alpha / 2)\n",
    "\n",
    "m = (X + t1 * o / np.sqrt(n), X + t2 * o / np.sqrt(n))\n",
    "\n",
    "m"
   ]
  },
  {
   "cell_type": "code",
   "execution_count": null,
   "metadata": {},
   "outputs": [],
   "source": [
    "# Task 4\n",
    "\n",
    "# К сожалению, я не успею выполнить курсовую работу по курсу мат стата..."
   ]
  }
 ],
 "metadata": {
  "kernelspec": {
   "display_name": "Python 3",
   "language": "python",
   "name": "python3"
  },
  "language_info": {
   "codemirror_mode": {
    "name": "ipython",
    "version": 3
   },
   "file_extension": ".py",
   "mimetype": "text/x-python",
   "name": "python",
   "nbconvert_exporter": "python",
   "pygments_lexer": "ipython3",
   "version": "3.8.5"
  }
 },
 "nbformat": 4,
 "nbformat_minor": 4
}
