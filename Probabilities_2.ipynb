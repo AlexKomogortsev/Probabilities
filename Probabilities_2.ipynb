{
 "cells": [
  {
   "cell_type": "code",
   "execution_count": 1,
   "metadata": {},
   "outputs": [
    {
     "data": {
      "text/html": [
       "<div>\n",
       "<style scoped>\n",
       "    .dataframe tbody tr th:only-of-type {\n",
       "        vertical-align: middle;\n",
       "    }\n",
       "\n",
       "    .dataframe tbody tr th {\n",
       "        vertical-align: top;\n",
       "    }\n",
       "\n",
       "    .dataframe thead th {\n",
       "        text-align: right;\n",
       "    }\n",
       "</style>\n",
       "<table border=\"1\" class=\"dataframe\">\n",
       "  <thead>\n",
       "    <tr style=\"text-align: right;\">\n",
       "      <th></th>\n",
       "      <th>Правильные ответы</th>\n",
       "      <th>Вероятность ихода</th>\n",
       "    </tr>\n",
       "  </thead>\n",
       "  <tbody>\n",
       "    <tr>\n",
       "      <th>0</th>\n",
       "      <td>0</td>\n",
       "      <td>0.237305</td>\n",
       "    </tr>\n",
       "    <tr>\n",
       "      <th>1</th>\n",
       "      <td>1</td>\n",
       "      <td>0.395508</td>\n",
       "    </tr>\n",
       "    <tr>\n",
       "      <th>2</th>\n",
       "      <td>2</td>\n",
       "      <td>0.263672</td>\n",
       "    </tr>\n",
       "    <tr>\n",
       "      <th>3</th>\n",
       "      <td>3</td>\n",
       "      <td>0.087891</td>\n",
       "    </tr>\n",
       "    <tr>\n",
       "      <th>4</th>\n",
       "      <td>4</td>\n",
       "      <td>0.014648</td>\n",
       "    </tr>\n",
       "    <tr>\n",
       "      <th>5</th>\n",
       "      <td>5</td>\n",
       "      <td>0.000977</td>\n",
       "    </tr>\n",
       "  </tbody>\n",
       "</table>\n",
       "</div>"
      ],
      "text/plain": [
       "   Правильные ответы  Вероятность ихода\n",
       "0                  0           0.237305\n",
       "1                  1           0.395508\n",
       "2                  2           0.263672\n",
       "3                  3           0.087891\n",
       "4                  4           0.014648\n",
       "5                  5           0.000977"
      ]
     },
     "execution_count": 1,
     "metadata": {},
     "output_type": "execute_result"
    }
   ],
   "source": [
    "# Task 1\n",
    "\n",
    "from math import factorial as fac\n",
    "import pandas as pd\n",
    "\n",
    "# Для начала создадим функцию, которая нам позволит вычислять необходимые вероятность:\n",
    "\n",
    "def probability(n, k):\n",
    "    return (fac(n) / (fac(k) * fac(n - k))) * ((1**k) / (4**k) * (3**(n - k) / 4**(n - k)))\n",
    "\n",
    "\n",
    "# Количество вопросов:\n",
    "\n",
    "n = 5\n",
    "\n",
    "# Вычислим список вероятностей того, что выпадет от 0 до 5 правильных ответов\n",
    "\n",
    "l = []\n",
    "\n",
    "for k in range(6):\n",
    "    l.append(probability(n, k))\n",
    "    \n",
    "\n",
    "dic = {\n",
    "    \"Правильные ответы\": [0, 1, 2, 3, 4, 5],\n",
    "    \"Вероятность ихода\": l\n",
    "}\n",
    "    \n",
    "probs = pd.DataFrame(dic)\n",
    "\n",
    "probs\n",
    "    "
   ]
  },
  {
   "cell_type": "code",
   "execution_count": 2,
   "metadata": {},
   "outputs": [
    {
     "data": {
      "text/plain": [
       "0.002255588053943545"
      ]
     },
     "execution_count": 2,
     "metadata": {},
     "output_type": "execute_result"
    }
   ],
   "source": [
    "# Task 2\n",
    "\n",
    "from math import exp\n",
    "\n",
    "# Пропишем функцию, которая считает вероятность нужного исхода\n",
    "\n",
    "def probability2(la, x):\n",
    "    return la * exp(-la) / fac(x)\n",
    "    \n",
    "# Вычислим среднее количетво пойманых рыб на 200 запросов\n",
    "\n",
    "la = 200 * 0.01\n",
    "    \n",
    "# Вычислим список вероятностей ловли от 5ти до 10ти рыб    \n",
    "\n",
    "l = []\n",
    "    \n",
    "for x in range (5, 11):\n",
    "    l.append(probability2(la, x))\n",
    "    \n",
    "# Общая вероятность поймать от 5ти до 10 рыб равна:\n",
    "\n",
    "sum(l)\n",
    "\n",
    "probability2(la, 5)"
   ]
  },
  {
   "cell_type": "code",
   "execution_count": 48,
   "metadata": {},
   "outputs": [
    {
     "name": "stdout",
     "output_type": "stream",
     "text": [
      "1297\n"
     ]
    }
   ],
   "source": [
    "# Task 3\n",
    "\n",
    "import numpy as np\n",
    "import decimal as dec\n",
    "import math\n",
    "\n",
    "# Если по условию дано, что вероятность поймать рыбу 10 и более раз равна 0.9, тогда вероятность\n",
    "# вытянуть рыбу от 0 до 9 раз будет равна 0.1\n",
    "\n",
    "# Вычислим формулу, по которой находится вероятность выпадения данного события\n",
    "\n",
    "# Количество возможных комбинаций\n",
    "def combinations(k, n, p):\n",
    "    combs = fac(n) / (fac(k) * fac(n - k))\n",
    "    return dec.Decimal(combs)\n",
    "\n",
    "\n",
    "# Вероятность поймать рыбу k раз\n",
    "def pos_prob(k, p):\n",
    "    pos = math.pow(p, k)\n",
    "    return dec.Decimal(pos)\n",
    "\n",
    "\n",
    "# Вероятность не поймать рыбу в остальные запросы\n",
    "def neg_prob(k, n, p):\n",
    "    neg = math.pow((1 - p), (n - k))\n",
    "    return dec.Decimal(neg)\n",
    "\n",
    "\n",
    "# Общая вероятность поймать рыбу k раз из n забросов\n",
    "def probability3(k, n, p):\n",
    "    return combinations(k, n, p) * pos_prob(k, p) * neg_prob(k, n, p)\n",
    "\n",
    "\n",
    "# Вероятность поймать рыбу с одного заброса\n",
    "p = 0.01\n",
    "\n",
    "\n",
    "# Найдём количество необходимых попыток, чтобы вероятность поймать 9 и менее рыб была равна 0.1\n",
    "for n in range(9, 3000):\n",
    "    prob = 0\n",
    "    for k in range(9):\n",
    "        prob += probability3(k, n, p)\n",
    "    if prob <= 0.1:\n",
    "        print(n)\n",
    "        break\n",
    "\n",
    "\n",
    "# 1297 - это же количетсво попыток необходимо, чтобы вероятность поймать 10 и более рыб была равна 0.9"
   ]
  },
  {
   "cell_type": "code",
   "execution_count": null,
   "metadata": {},
   "outputs": [],
   "source": []
  }
 ],
 "metadata": {
  "kernelspec": {
   "display_name": "Python 3",
   "language": "python",
   "name": "python3"
  },
  "language_info": {
   "codemirror_mode": {
    "name": "ipython",
    "version": 3
   },
   "file_extension": ".py",
   "mimetype": "text/x-python",
   "name": "python",
   "nbconvert_exporter": "python",
   "pygments_lexer": "ipython3",
   "version": "3.8.5"
  }
 },
 "nbformat": 4,
 "nbformat_minor": 4
}
