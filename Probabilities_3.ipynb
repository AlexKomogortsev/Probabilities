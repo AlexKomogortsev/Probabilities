{
 "cells": [
  {
   "cell_type": "code",
   "execution_count": 71,
   "metadata": {},
   "outputs": [
    {
     "name": "stdout",
     "output_type": "stream",
     "text": [
      "correct\n",
      "correct\n",
      "correct\n",
      "correct\n"
     ]
    }
   ],
   "source": [
    "# Task 1\n",
    "\n",
    "import pandas as pd\n",
    "import numpy as np\n",
    "\n",
    "l = [100, 80, 75, 77, 89, 33, 45, 25, 65, 17, 30, 24, 57, 55, 70, 75, 65, 84, 90, 150]\n",
    "\n",
    "sal = pd.Series(l)\n",
    "\n",
    "mean = sal.sum() / sal.count()\n",
    "\n",
    "if mean == sal.mean():\n",
    "    print('correct')\n",
    "else:\n",
    "    print('Incorrect. Right answer is {sal.mean()}')\n",
    "\n",
    "\n",
    "m = []\n",
    "    \n",
    "for i in l:\n",
    "    x = ((i  - mean)**2)\n",
    "    m.append(x)\n",
    "\n",
    "std = (sum(m) / (sal.count()))**(1/2)\n",
    "\n",
    "if std == sal.std(ddof=0):\n",
    "    print('correct')\n",
    "else:\n",
    "    print('Incorrect. Right answer is {sal.std(ddof=0}')\n",
    "\n",
    "\n",
    "var1 = ((sal - mean)**2).sum() / sal.count()\n",
    "\n",
    "if var1 == np.var(sal, ddof=0):\n",
    "    print('correct')\n",
    "else:\n",
    "    print('Incorrect. Right answer is {np.var(sal, ddof=0)}')\n",
    "    \n",
    "\n",
    "var2 = ((sal - mean)**2).sum() / (sal.count() - 1)\n",
    "\n",
    "if var2 == np.var(sal, ddof=1):\n",
    "    print('correct')\n",
    "else:\n",
    "    print('Incorrect. Right answer is {np.var(sal, ddof=1)}')\n"
   ]
  },
  {
   "cell_type": "code",
   "execution_count": 88,
   "metadata": {},
   "outputs": [
    {
     "data": {
      "image/png": "[encoded data removed]",
      "text/plain": [
       "<Figure size 432x288 with 1 Axes>"
      ]
     },
     "metadata": {
      "needs_background": "light"
     },
     "output_type": "display_data"
    }
   ],
   "source": [
    "# Task 2\n",
    "\n",
    "import seaborn as sns\n",
    "import matplotlib.pyplot as plt\n",
    "import warnings\n",
    "warnings.filterwarnings('ignore')\n",
    "\n",
    "\n",
    "sal.quantile(0.25) # 42\n",
    "sal.quantile(0.75) # 81\n",
    "IQR = sal.quantile(0.75) - sal.quantile(0.25)\n",
    "IQR # 39\n",
    "\n",
    "sns.boxplot(sal, orient='v')\n",
    "\n",
    "plt.show()"
   ]
  },
  {
   "cell_type": "code",
   "execution_count": 91,
   "metadata": {},
   "outputs": [
    {
     "data": {
      "text/html": [
       "<div>\n",
       "<style scoped>\n",
       "    .dataframe tbody tr th:only-of-type {\n",
       "        vertical-align: middle;\n",
       "    }\n",
       "\n",
       "    .dataframe tbody tr th {\n",
       "        vertical-align: top;\n",
       "    }\n",
       "\n",
       "    .dataframe thead th {\n",
       "        text-align: right;\n",
       "    }\n",
       "</style>\n",
       "<table border=\"1\" class=\"dataframe\">\n",
       "  <thead>\n",
       "    <tr style=\"text-align: right;\">\n",
       "      <th></th>\n",
       "      <th>Группа</th>\n",
       "      <th>Вероятность</th>\n",
       "    </tr>\n",
       "  </thead>\n",
       "  <tbody>\n",
       "    <tr>\n",
       "      <th>0</th>\n",
       "      <td>A</td>\n",
       "      <td>0.242424</td>\n",
       "    </tr>\n",
       "    <tr>\n",
       "      <th>1</th>\n",
       "      <td>B</td>\n",
       "      <td>0.212121</td>\n",
       "    </tr>\n",
       "    <tr>\n",
       "      <th>2</th>\n",
       "      <td>C</td>\n",
       "      <td>0.545455</td>\n",
       "    </tr>\n",
       "  </tbody>\n",
       "</table>\n",
       "</div>"
      ],
      "text/plain": [
       "  Группа  Вероятность\n",
       "0      A     0.242424\n",
       "1      B     0.212121\n",
       "2      C     0.545455"
      ]
     },
     "execution_count": 91,
     "metadata": {},
     "output_type": "execute_result"
    }
   ],
   "source": [
    "# Task 3\n",
    "\n",
    "# Вероятности выбора одного студента из соответсвтвующей группы при условии сдачи сессии: P(A|B1), P(A|B2), P(A|B3)\n",
    "\n",
    "PAB1 = 8 / 10\n",
    "PAB2 = 7 / 10\n",
    "PAB3 = 9 / 10\n",
    "\n",
    "# Вероятность случайного выбора студентов из соответствующих групп: P(B1), P(B2), P(B3)\n",
    "\n",
    "PB1 = 1 / 4\n",
    "PB2 = 1 / 4\n",
    "PB3 = 2 / 4\n",
    "\n",
    "# Вероятность сдачи случайно выбранного студента: P(A)\n",
    "\n",
    "PA = PAB1 * PB1 + PAB2 * PB2 + PAB3 * PB3\n",
    "\n",
    "# Вероятность того, что сдал студент из группы A: P(B1|A)\n",
    "\n",
    "PB1A = PB1 * PAB1 / PA\n",
    "\n",
    "# Вероятность того, что сдал студент из группы B: P(B2|A)\n",
    "\n",
    "PB2A = PB2 * PAB2 / PA\n",
    "\n",
    "# Вероятность того, что сдал студент из группы C: P(B3|A)\n",
    "\n",
    "PB3A = PB3 * PAB3 / PA\n",
    "\n",
    "probs = pd.DataFrame({\n",
    "    'Группа': ['A', 'B', 'C'],\n",
    "    'Вероятность': [PB1A, PB2A, PB3A]\n",
    "})\n",
    "\n",
    "probs"
   ]
  }
 ],
 "metadata": {
  "kernelspec": {
   "display_name": "Python 3",
   "language": "python",
   "name": "python3"
  },
  "language_info": {
   "codemirror_mode": {
    "name": "ipython",
    "version": 3
   },
   "file_extension": ".py",
   "mimetype": "text/x-python",
   "name": "python",
   "nbconvert_exporter": "python",
   "pygments_lexer": "ipython3",
   "version": "3.8.5"
  }
 },
 "nbformat": 4,
 "nbformat_minor": 4
}
