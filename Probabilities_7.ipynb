{
 "cells": [
  {
   "cell_type": "code",
   "execution_count": 65,
   "metadata": {},
   "outputs": [
    {
     "name": "stdout",
     "output_type": "stream",
     "text": [
      "Biggest combination: ('x1', 'x3')\n",
      "Зависимость факторов незначима\n"
     ]
    }
   ],
   "source": [
    "# Task 1\n",
    "\n",
    "import numpy as np\n",
    "import pandas as pd\n",
    "from matplotlib import pyplot as plt\n",
    "from sklearn.linear_model import LinearRegression as lr\n",
    "from itertools import combinations\n",
    "from scipy import stats\n",
    "\n",
    "\n",
    "# функция преобразования первичного листа в датафрейм\n",
    "def get_DF_matrix(x):\n",
    "    x1 = []\n",
    "    x2 = []\n",
    "    x3 = []\n",
    "    x4 = []\n",
    "\n",
    "    for l in range(len(x)):\n",
    "        x1.append(x[l][0])\n",
    "        x2.append(x[l][1])\n",
    "        x3.append(x[l][2])\n",
    "        x4.append(x[l][3])\n",
    "\n",
    "    df = pd.DataFrame({\n",
    "        'x1': x1,\n",
    "        'x2': x2,\n",
    "        'x3': x3,\n",
    "        'x4': x4\n",
    "    })\n",
    "    \n",
    "    return df\n",
    "\n",
    "\n",
    "# функция получения суммы квадратов\n",
    "def sum_of_squares(samples):\n",
    "    return((samples - samples.mean())**2).sum()\n",
    "\n",
    "\n",
    "# функция получения коэффициента детерминации\n",
    "def r2_score(sample):\n",
    "    ones = np.ones((sample.shape[0], 1))\n",
    "    sample = np.hstack((ones, sample))\n",
    "    XTX = sample.T.dot(sample)\n",
    "    XTX_inv = np.linalg.inv(XTX)\n",
    "    b = XTX_inv.dot(sample.T).dot(y)\n",
    "    z = sample.dot(b)\n",
    "\n",
    "    return 1 - ((y - z)**2).sum() / sum_of_squares(y)\n",
    "\n",
    "\n",
    "# функция, которая выдает нам комбинацию факторов с наибольшим коэффициентом детерминации\n",
    "def biggest_r2(x, n):\n",
    "    dic = {}\n",
    "\n",
    "    for i in combinations(list(get_DF_matrix(x).columns), n):\n",
    "        dic[i] = r2_score(get_DF_matrix(x)[list(i)])\n",
    "\n",
    "    print(f'Biggest combination: {max(dic, key=dic.get)}')\n",
    "\n",
    "\n",
    "# функция получения значения F-теста\n",
    "def F_test(r2, n, m):\n",
    "    k1 = m\n",
    "    k2 = n - m - 1\n",
    "    \n",
    "    return (r2 / k1) / ((1 - r2) / k2)\n",
    "\n",
    "\n",
    "# функция, которая проверяет факторы на значимость их зависимости\n",
    "def scoring(r2, n, m, alpha):  \n",
    "    k1 = m\n",
    "    k2 = n - m - 1\n",
    "    F_test(r2, n, m)\n",
    "    t = stats.f.ppf(1 - alpha, k1, k2)\n",
    "    \n",
    "    if F_test(r2, n, m) > stats.f.ppf(1 - alpha, k1, k2):\n",
    "        return print('Зависимость факторов значима')\n",
    "    else:\n",
    "        return print('Зависимость факторов незначима')\n",
    "\n",
    "    \n",
    "#--------------------------------------------------------------------------------------------------------------------------\n",
    "\n",
    "# Вводные массивы X и Y\n",
    "\n",
    "x = np.asarray([[ 1.22401313, 2.30868478, 3.03636353, 2.69287214],\n",
    "[-0.18757272, 1.30337355, 5.12093014, 3.46363202],\n",
    "[-0.81094525, 1.82463398, 5.79686488, 1.86159445],\n",
    "[ 0.75129018, 2.67392052, 3.65529809, 1.66746094],\n",
    "[ 0.00972362, 1.97367255, 2.50594319, 1.69755173],\n",
    "[-0.62972637, 0.77750764, 2.84124027, 4.54410559],\n",
    "[ 2.29536229, 1.81206697, 1.95026215, 1.51874636],\n",
    "[ 0.0920418 , 2.26971361, 7.47708735, 2.61081203],\n",
    "[ 2.39252799, 3.17563985, 3.61420599, 5.10773362],\n",
    "[ 0.54983815, 2.87988651, 1.65752765, 1.59635987]])\n",
    "\n",
    "y = np.asarray([ 9.26193358, 9.700363 , 8.67214805, 8.74796974, 6.18689108,\n",
    "7.53312713, 7.57643777, 12.44965478, 14.29010746, 6.68361218])\n",
    "\n",
    "\n",
    "# получим самые зависимые факторы\n",
    "biggest_r2(x, 2)\n",
    "\n",
    "\n",
    "# проверим их значимость\n",
    "scoring(r2_score(get_DF_matrix(x)[['x1', 'x3']]), x.shape[0], x.shape[1], 0.05)\n"
   ]
  },
  {
   "cell_type": "code",
   "execution_count": 99,
   "metadata": {},
   "outputs": [
    {
     "name": "stdout",
     "output_type": "stream",
     "text": [
      "Зависимость факторов значима\n"
     ]
    },
    {
     "data": {
      "text/plain": [
       "y    0.114693\n",
       "dtype: float64"
      ]
     },
     "execution_count": 99,
     "metadata": {},
     "output_type": "execute_result"
    },
    {
     "data": {
      "image/png": "[encoded data removed]",
      "text/plain": [
       "<Figure size 432x288 with 1 Axes>"
      ]
     },
     "metadata": {
      "needs_background": "light"
     },
     "output_type": "display_data"
    }
   ],
   "source": [
    "# Task 2\n",
    "\n",
    "import statsmodels.api as sm\n",
    "\n",
    "x = np.array([35, 45, 190, 200, 40, 70, 54, 150, 120, 110])\n",
    "y = np.array([401, 574, 874, 919, 459, 739, 653, 902, 746, 832])\n",
    "\n",
    "b1 = (np.mean(x * y) - np.mean(x) * np.mean(y)) / (np.mean(x ** 2) - np.mean(x) ** 2) # 2.62\n",
    "b0 = np.mean(y) - b1 * np.mean(x) # 444.18\n",
    "\n",
    "ox = x\n",
    "oy = b0 + b1 * ox\n",
    "\n",
    "plt.scatter(x, y)\n",
    "plt.plot(ox, oy, color='red', alpha=0.5)\n",
    "plt.xlabel('зарплата')\n",
    "plt.ylabel('скоринг')\n",
    "\n",
    "dfx = pd.DataFrame({\n",
    "    'x': x\n",
    "})\n",
    "\n",
    "dfy = pd.DataFrame({\n",
    "    'y': y\n",
    "})\n",
    "\n",
    "\n",
    "\n",
    "r2_score(dfx) # 0.7876\n",
    "\n",
    "scoring(r2_score(dfx), dfx.shape[0], dfx.shape[1], 0.05) # Зависимость факторов значима\n",
    "\n",
    "yx = b0 + b1 * dfx\n",
    "yx = yx.rename({'x': 'y'}, axis=1)\n",
    "\n",
    "# средняя ошибка аппроксимации\n",
    "(abs(dfy - yx) / dfy).sum() / dfx.shape[0] # 0.1147, довольно высокое значение"
   ]
  }
 ],
 "metadata": {
  "kernelspec": {
   "display_name": "Python 3",
   "language": "python",
   "name": "python3"
  },
  "language_info": {
   "codemirror_mode": {
    "name": "ipython",
    "version": 3
   },
   "file_extension": ".py",
   "mimetype": "text/x-python",
   "name": "python",
   "nbconvert_exporter": "python",
   "pygments_lexer": "ipython3",
   "version": "3.8.5"
  }
 },
 "nbformat": 4,
 "nbformat_minor": 4
}
