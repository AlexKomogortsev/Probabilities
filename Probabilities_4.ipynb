{
 "cells": [
  {
   "cell_type": "code",
   "execution_count": 5,
   "metadata": {},
   "outputs": [],
   "source": [
    "# Task 1\n",
    "\n",
    "# Формула дискриминанта для непрерывной случайной величины\n",
    "\n",
    "# D = ((b - a)**2) / 12\n",
    "# a = 0.5\n",
    "# D = 0.2\n",
    "\n",
    "# Вычисляем b:\n",
    "\n",
    "# (b - 0.5)**2 = 2.4\n",
    "# b - 0.5 = 1.5492\n",
    "# b = 2.0492\n",
    "\n",
    "# Среднее равно мат ожиданию:\n",
    "\n",
    "# M = (2.0492 + 0.5) / 2 = 1.2746\n"
   ]
  },
  {
   "cell_type": "code",
   "execution_count": 56,
   "metadata": {},
   "outputs": [],
   "source": [
    "# Task 2\n",
    "\n",
    "import math\n",
    "\n",
    "# Функция нормального распределения.\n",
    "\n",
    "def n_dist(x, m, o):\n",
    "    a = (x - m) / (2 * o**2)**(1/2)\n",
    "    return (1/2) * (1 + math.erf(a))\n",
    "\n",
    "# Вероятность того, что рост выше 182 см\n",
    "\n",
    "P1 = 1 - n_dist(182, 174, 8) # 15.87 %\n",
    "\n",
    "# или по правилу сигм\n",
    "\n",
    "P1 = (1 - 0.68) / 2\n",
    "\n",
    "# Вероятность того, что рост выше 190 см\n",
    "\n",
    "P2 = 1 - n_dist(190, 174, 8) # 2.28 %\n",
    "\n",
    "# или по правилу сигм\n",
    "\n",
    "P2 = (1 - 0.954) / 2\n",
    "\n",
    "# Вероятность того, что рост от 166 до 190 см\n",
    "\n",
    "P3 = n_dist(190, 174, 8) - n_dist(166, 174, 8) # 81.86 %\n",
    "\n",
    "# или по правилу сигм\n",
    "\n",
    "P3 = 0.68 / 2 + 0.954 / 2\n",
    "\n",
    "# Вероятность того, что рост от 166 до 182 см\n",
    "\n",
    "P4 = n_dist(182, 174, 8) - n_dist(166, 174, 8) # 68.27 %\n",
    "\n",
    "# или по правилу сигм\n",
    "\n",
    "P4 = 0.68\n",
    "\n",
    "# Вероятность того, что рост от 158 до 190 см\n",
    "\n",
    "P5 = n_dist(190, 174, 8) - n_dist(158, 174, 8) # 95.45%\n",
    "\n",
    "# Вероятность того, что рост не выше 150 см и не ниже 190 см\n",
    "\n",
    "P6 = n_dist(150, 174, 8) + P2 # 2.41 %\n",
    "\n",
    "# Вероятность того, что рост не выше 150 см и не ниже 198 см\n",
    "\n",
    "P7 = n_dist(150, 174, 8) + (1 - n_dist(198, 174, 8))  # 0.27 %\n",
    "\n",
    "# Вероятность того, что рост ниже 166 см\n",
    "\n",
    "P8 = n_dist(166, 174, 8) # 15.87 %\n",
    "\n"
   ]
  },
  {
   "cell_type": "code",
   "execution_count": 20,
   "metadata": {},
   "outputs": [
    {
     "data": {
      "text/plain": [
       "0.13656336797447766"
      ]
     },
     "execution_count": 20,
     "metadata": {},
     "output_type": "execute_result"
    }
   ],
   "source": [
    "# Task 3\n",
    "\n",
    "from scipy import stats\n",
    "import pandas as pd\n",
    "import numpy as np\n",
    "\n",
    "\n",
    "def find_scale(p, x, loc):\n",
    "    for i in range(100000):\n",
    "        scale = i * 0.0001\n",
    "        if stats.norm.cdf(x, loc=loc, scale=scale) > p:\n",
    "            return scale\n",
    "            break\n",
    "        else:\n",
    "            continue\n",
    "        \n",
    "scale2 = find_scale(0.05, x=1, loc=1.06) # 0.0365\n",
    "\n",
    "p2 = 1 - stats.norm.cdf(x=1.1, loc=1.06, scale=scale2) # 0.1366"
   ]
  }
 ],
 "metadata": {
  "kernelspec": {
   "display_name": "Python 3",
   "language": "python",
   "name": "python3"
  },
  "language_info": {
   "codemirror_mode": {
    "name": "ipython",
    "version": 3
   },
   "file_extension": ".py",
   "mimetype": "text/x-python",
   "name": "python",
   "nbconvert_exporter": "python",
   "pygments_lexer": "ipython3",
   "version": "3.8.5"
  }
 },
 "nbformat": 4,
 "nbformat_minor": 4
}
