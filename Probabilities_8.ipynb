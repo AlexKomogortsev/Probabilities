{
 "cells": [
  {
   "cell_type": "code",
   "execution_count": 45,
   "metadata": {},
   "outputs": [
    {
     "name": "stdout",
     "output_type": "stream",
     "text": [
      "Различия между средними роста спортсменов разных групп ЗНАЧИТЕЛЬНЫ\n"
     ]
    },
    {
     "data": {
      "text/plain": [
       "5.500053450812598"
      ]
     },
     "execution_count": 45,
     "metadata": {},
     "output_type": "execute_result"
    }
   ],
   "source": [
    "# Task 1\n",
    "\n",
    "import numpy as np\n",
    "from scipy import stats\n",
    "\n",
    "\n",
    "y1 = np.array([173, 175, 180, 178, 177, 185, 183, 182], dtype=np.float64) # football players\n",
    "y2 = np.array([177, 179, 180, 188, 177, 172, 171, 184, 180], dtype=np.float64) # hockey players\n",
    "y3 = np.array([172, 173, 169, 177, 166, 180, 178, 177, 172, 166, 170], dtype=np.float64) # lifters\n",
    "\n",
    "n1 = y1.shape[0] # 8\n",
    "n2 = y2.shape[0] # 9\n",
    "n3 = y3.shape[0] # 11\n",
    "\n",
    "y1_mean = y1.mean() # 179.125\n",
    "y2_mean = y2.mean() # 178.(6)\n",
    "y3_mean = y3.mean() # 172.(72)\n",
    "\n",
    "y = np.concatenate([y1, y2, y3])\n",
    "\n",
    "y_mean = y.mean() # 176.46\n",
    "\n",
    "S2_b = (n1 * (y1_mean - y_mean)**2) + (n2 * (y2_mean - y_mean)**2) + (n3 * (y3_mean - y_mean)**2)\n",
    "S2_w = ((y1 - y1_mean)**2).sum() + ((y2 - y2_mean)**2).sum() + ((y3 - y3_mean)**2).sum()\n",
    "\n",
    "S2_b, S2_w\n",
    "\n",
    "k = 3\n",
    "\n",
    "n = n1 + n2 + n3\n",
    "\n",
    "o2_b = S2_b / (k - 1)\n",
    "o2_w = S2_w / (n - k)\n",
    "\n",
    "o2_b, o2_w\n",
    "\n",
    "T = o2_b / o2_w\n",
    "\n",
    "alpha = 0.05\n",
    "\n",
    "F_crit = stats.f.ppf(1 - alpha, k - 1, n - k)\n",
    "\n",
    "p = 1 - stats.f.cdf(T, k - 1, n - k)\n",
    "\n",
    "if T > F_crit:\n",
    "    print('Различия между средними роста спортсменов разных групп ЗНАЧИТЕЛЬНЫ')\n",
    "else:\n",
    "    print('Различий между средними роста спортсменов разных групп почти нет')\n",
    "    \n",
    "T"
   ]
  }
 ],
 "metadata": {
  "kernelspec": {
   "display_name": "Python 3",
   "language": "python",
   "name": "python3"
  },
  "language_info": {
   "codemirror_mode": {
    "name": "ipython",
    "version": 3
   },
   "file_extension": ".py",
   "mimetype": "text/x-python",
   "name": "python",
   "nbconvert_exporter": "python",
   "pygments_lexer": "ipython3",
   "version": "3.8.5"
  }
 },
 "nbformat": 4,
 "nbformat_minor": 4
}
